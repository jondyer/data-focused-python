{
 "cells": [
  {
   "cell_type": "code",
   "execution_count": 17,
   "metadata": {},
   "outputs": [
    {
     "name": "stdout",
     "output_type": "stream",
     "text": [
      "0 CME   20190118SF     201901181841U2YNCLR        C CUST  H HEDGE 1 CORE  M MAINT \n",
      "\n",
      "T AUDAJPYY0078666189\n",
      "\n",
      "T AUDAUSD$0000717103\n",
      "\n",
      "T BRLBUSD$0000266426\n",
      "\n",
      "T CADCJPYY0082630310\n",
      "\n",
      "T CADCUSD$0000753239\n",
      "\n",
      "T CHFSUSD$0001004419\n",
      "\n",
      "T CLPCUSD$0000001491\n",
      "\n",
      "T CNH0USD$0000146938\n",
      "\n",
      "T CNYCUSD$0000147787\n",
      "\n",
      "T COPEUSD$0000000320\n",
      "\n",
      "T CZKKUSD$0000044430\n",
      "\n",
      "T DKKFUSD$0000152251\n",
      "\n",
      "T EURUAUDA0001585019\n",
      "\n",
      "T EURUCHFS0001131621\n",
      "\n",
      "T EURUGBPL0000883269\n",
      "\n",
      "T EURUJPYY0124687429\n",
      "\n",
      "T EURUUSD$0001136622\n",
      "\n",
      "T GBPLUSD$0001286836\n",
      "\n",
      "T GLDGUSD$1290700000\n",
      "\n"
     ]
    }
   ],
   "source": [
    "i=0\n",
    "w = open('output.txt','w')\n",
    "with open('cme.20190118.c.pa2', 'r') as handle:\n",
    "    for line in handle: \n",
    "        print(line)\n",
    "        i+=1\n",
    "        w.write(line)\n",
    "        if(i>19):\n",
    "            break\n",
    "w.close()\n"
   ]
  },
  {
   "cell_type": "code",
   "execution_count": 11,
   "metadata": {},
   "outputs": [],
   "source": [
    "i=0\n",
    "i+=1"
   ]
  }
 ],
 "metadata": {
  "kernelspec": {
   "display_name": "Python 3",
   "language": "python",
   "name": "python3"
  },
  "language_info": {
   "codemirror_mode": {
    "name": "ipython",
    "version": 3
   },
   "file_extension": ".py",
   "mimetype": "text/x-python",
   "name": "python",
   "nbconvert_exporter": "python",
   "pygments_lexer": "ipython3",
   "version": "3.7.1"
  }
 },
 "nbformat": 4,
 "nbformat_minor": 2
}
