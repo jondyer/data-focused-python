{
 "cells": [
  {
   "cell_type": "code",
   "execution_count": 14,
   "metadata": {},
   "outputs": [],
   "source": [
    "data_1 = [['brian', 103, 103, 66, 'blah1', 'blah2'],\n",
    "        ['brian', 227, 242, 267, 'blah1', 'blah2'],\n",
    "        ['brian', 803, 750, 586, 'blah1', 'blah2'],\n",
    "        ['brian', 160, 122, 93, 'blah1', 'blah2'],\n",
    "        ['brian', 235, 184, 209, 'blah1', 'blah2'], \n",
    "        ['brian', 175, 147, 139, 'blah1', 'blah2'],\n",
    "        ['brian', 874, 566, 1033, 'blah1', 'blah2'],\n",
    "        ['brian', 265, 171, 143, 'blah1', 'blah2'],\n",
    "        ['brian', 570, 418, 355, 'blah1', 'blah2'],\n",
    "        ['brian', 203, 220, 187, 'blah1', 'blah2'],\n",
    "        ['brian', 365, 337, 334, 'blah1', 'blah2'],\n",
    "        ['brian', 1137, 957, 674, 'blah1', 'blah2'],\n",
    "        ['brian', 1582, 1462, 1494, 'blah1', 'blah2'],\n",
    "        ['brian', 73, 53, 47, 'blah1', 'blah2'],\n",
    "        ['brian', 1256, 1572, 1506, 'blah1', 'blah2'],\n",
    "        ['brian', 475, 458, 135, 'blah1', 'blah2'],\n",
    "        ['brian', 64, 62, 41, 'blah1', 'blah2']\n",
    "       ]"
   ]
  },
  {
   "cell_type": "code",
   "execution_count": 16,
   "metadata": {},
   "outputs": [
    {
     "name": "stdout",
     "output_type": "stream",
     "text": [
      "Futures    Contract   Contract   Futures    Options    Options    \n",
      "Code       Month      Type       Exp Date   Code       Exp Date   \n",
      "-------    --------   --------   --------   -------    --------   \n",
      "brian      103        103        66         blah1      blah2      \n",
      "brian      227        242        267        blah1      blah2      \n",
      "brian      803        750        586        blah1      blah2      \n",
      "brian      160        122        93         blah1      blah2      \n",
      "brian      235        184        209        blah1      blah2      \n",
      "brian      175        147        139        blah1      blah2      \n",
      "brian      874        566        1033       blah1      blah2      \n",
      "brian      265        171        143        blah1      blah2      \n",
      "brian      570        418        355        blah1      blah2      \n",
      "brian      203        220        187        blah1      blah2      \n",
      "brian      365        337        334        blah1      blah2      \n",
      "brian      1137       957        674        blah1      blah2      \n",
      "brian      1582       1462       1494       blah1      blah2      \n",
      "brian      73         53         47         blah1      blah2      \n",
      "brian      1256       1572       1506       blah1      blah2      \n",
      "brian      475        458        135        blah1      blah2      \n",
      "brian      64         62         41         blah1      blah2      \n"
     ]
    }
   ],
   "source": [
    "### Table 1 output (B-records) ###\n",
    "\n",
    "column_width = 11\n",
    "column_label_1 = ['Futures', 'Contract', 'Contract', 'Futures', 'Options', 'Options']\n",
    "column_label_2 = ['Code', 'Month', 'Type', 'Exp Date', 'Code', 'Exp Date']\n",
    "column_label_3 = ['-------', '--------', '--------', '--------', '-------', '--------']\n",
    "\n",
    "# print header\n",
    "for column_label in column_label_1:\n",
    "    print(column_label.ljust(column_width), end='')\n",
    "print()\n",
    "\n",
    "for column_label in column_label_2:\n",
    "    print(column_label.ljust(column_width), end='')\n",
    "print()\n",
    "\n",
    "for column_label in column_label_3:\n",
    "    print(column_label.ljust(column_width), end='')\n",
    "print()\n",
    "\n",
    "\n",
    "# print data\n",
    "for row in data_1:\n",
    "    for value in row:\n",
    "        print(str(value).ljust(column_width), end='')\n",
    "    print()"
   ]
  },
  {
   "cell_type": "code",
   "execution_count": 17,
   "metadata": {},
   "outputs": [],
   "source": [
    "data_2 = [['brian', 103, 103, 66, 'blah1'],\n",
    "        ['brian', 227, 242, 267, 'blah1'],\n",
    "        ['brian', 803, 750, 586, 'blah1'],\n",
    "        ['brian', 160, 122, 93, 'blah1'],\n",
    "        ['brian', 235, 184, 209, 'blah1'], \n",
    "        ['brian', 175, 147, 139, 'blah1'],\n",
    "        ['brian', 874, 566, 1033, 'blah1'],\n",
    "        ['brian', 265, 171, 143, 'blah1'],\n",
    "        ['brian', 570, 418, 355, 'blah1'],\n",
    "        ['brian', 203, 220, 187, 'blah1'],\n",
    "        ['brian', 365, 337, 334, 'blah1'],\n",
    "        ['brian', 1137, 957, 674, 'blah1'],\n",
    "        ['brian', 1582, 1462, 1494, 'blah1'],\n",
    "        ['brian', 73, 53, 47, 'blah1'],\n",
    "        ['brian', 1256, 1572, 1506, 'blah1'],\n",
    "        ['brian', 475, 458, 135, 'blah1'],\n",
    "        ['brian', 64, 62, 41, 'blah1']\n",
    "       ]"
   ]
  },
  {
   "cell_type": "code",
   "execution_count": 18,
   "metadata": {},
   "outputs": [
    {
     "name": "stdout",
     "output_type": "stream",
     "text": [
      "Futures    Contract   Contract   Strike     Settlement \n",
      "Code       Month      Type       Price      Price      \n",
      "-------    --------   --------   ------     ---------- \n",
      "brian      103        103        66         blah1      \n",
      "brian      227        242        267        blah1      \n",
      "brian      803        750        586        blah1      \n",
      "brian      160        122        93         blah1      \n",
      "brian      235        184        209        blah1      \n",
      "brian      175        147        139        blah1      \n",
      "brian      874        566        1033       blah1      \n",
      "brian      265        171        143        blah1      \n",
      "brian      570        418        355        blah1      \n",
      "brian      203        220        187        blah1      \n",
      "brian      365        337        334        blah1      \n",
      "brian      1137       957        674        blah1      \n",
      "brian      1582       1462       1494       blah1      \n",
      "brian      73         53         47         blah1      \n",
      "brian      1256       1572       1506       blah1      \n",
      "brian      475        458        135        blah1      \n",
      "brian      64         62         41         blah1      \n"
     ]
    }
   ],
   "source": [
    "### Table 2 output (81-records) ###\n",
    "column_width = 11\n",
    "column_label_1 = ['Futures', 'Contract', 'Contract', 'Strike', 'Settlement']\n",
    "column_label_2 = ['Code', 'Month', 'Type', 'Price', 'Price']\n",
    "column_label_3 = ['-------', '--------', '--------', '------', '----------']\n",
    "\n",
    "# print header\n",
    "for column_label in column_label_1:\n",
    "    print(column_label.ljust(column_width), end='')\n",
    "print()\n",
    "\n",
    "for column_label in column_label_2:\n",
    "    print(column_label.ljust(column_width), end='')\n",
    "print()\n",
    "\n",
    "for column_label in column_label_3:\n",
    "    print(column_label.ljust(column_width), end='')\n",
    "print()\n",
    "\n",
    "\n",
    "# print data\n",
    "for row in data_2:\n",
    "    for value in row:\n",
    "        print(str(value).ljust(column_width), end='')\n",
    "    print()"
   ]
  },
  {
   "cell_type": "code",
   "execution_count": null,
   "metadata": {},
   "outputs": [],
   "source": []
  }
 ],
 "metadata": {
  "kernelspec": {
   "display_name": "Python 3",
   "language": "python",
   "name": "python3"
  },
  "language_info": {
   "codemirror_mode": {
    "name": "ipython",
    "version": 3
   },
   "file_extension": ".py",
   "mimetype": "text/x-python",
   "name": "python",
   "nbconvert_exporter": "python",
   "pygments_lexer": "ipython3",
   "version": "3.6.6"
  }
 },
 "nbformat": 4,
 "nbformat_minor": 2
}
