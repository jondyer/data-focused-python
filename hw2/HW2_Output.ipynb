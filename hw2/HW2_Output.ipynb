{
 "cells": [
  {
   "cell_type": "code",
   "execution_count": 4,
   "metadata": {},
   "outputs": [
    {
     "ename": "FileNotFoundError",
     "evalue": "[Errno 2] No such file or directory: 'cme.20190118.c.pa2'",
     "output_type": "error",
     "traceback": [
      "\u001b[1;31m---------------------------------------------------------------------------\u001b[0m",
      "\u001b[1;31mFileNotFoundError\u001b[0m                         Traceback (most recent call last)",
      "\u001b[1;32m<ipython-input-4-30a4824f0f12>\u001b[0m in \u001b[0;36m<module>\u001b[1;34m\u001b[0m\n\u001b[0;32m      3\u001b[0m \u001b[1;33m\u001b[0m\u001b[0m\n\u001b[0;32m      4\u001b[0m \u001b[1;31m# read in and write out data\u001b[0m\u001b[1;33m\u001b[0m\u001b[1;33m\u001b[0m\u001b[1;33m\u001b[0m\u001b[0m\n\u001b[1;32m----> 5\u001b[1;33m \u001b[1;32mwith\u001b[0m \u001b[0mopen\u001b[0m\u001b[1;33m(\u001b[0m\u001b[1;34m'cme.20190118.c.pa2'\u001b[0m\u001b[1;33m,\u001b[0m \u001b[1;34m'r'\u001b[0m\u001b[1;33m)\u001b[0m \u001b[1;32mas\u001b[0m \u001b[0mread_file\u001b[0m\u001b[1;33m:\u001b[0m\u001b[1;33m\u001b[0m\u001b[1;33m\u001b[0m\u001b[0m\n\u001b[0m\u001b[0;32m      6\u001b[0m     \u001b[1;32mwith\u001b[0m \u001b[0mopen\u001b[0m\u001b[1;33m(\u001b[0m\u001b[1;34m'CL_expirations_and_settlements.txt'\u001b[0m\u001b[1;33m,\u001b[0m\u001b[1;34m'w'\u001b[0m\u001b[1;33m)\u001b[0m \u001b[1;32mas\u001b[0m \u001b[0mwrite_file\u001b[0m\u001b[1;33m:\u001b[0m\u001b[1;33m\u001b[0m\u001b[1;33m\u001b[0m\u001b[0m\n\u001b[0;32m      7\u001b[0m         \u001b[1;32mfor\u001b[0m \u001b[0mline\u001b[0m \u001b[1;32min\u001b[0m \u001b[0mread_file\u001b[0m\u001b[1;33m:\u001b[0m\u001b[1;33m\u001b[0m\u001b[1;33m\u001b[0m\u001b[0m\n",
      "\u001b[1;31mFileNotFoundError\u001b[0m: [Errno 2] No such file or directory: 'cme.20190118.c.pa2'"
     ]
    }
   ],
   "source": [
    "data_1 = []\n",
    "data_2 = []\n",
    "\n",
    "# read in and write out data \n",
    "with open('cme.20190118.c.pa2', 'r') as read_file:\n",
    "    with open('CL_expirations_and_settlements.txt','w') as write_file:\n",
    "        for line in read_file: \n",
    "            # B-type futures \n",
    "            if(line[0]=='B'):\n",
    "                if(line[5:7]=='CL'):\n",
    "                    futures_code = line[5:7]\n",
    "                    contract_month = line[18:24]\n",
    "                    contract_type = line[15:18]\n",
    "                    futures_expiration_date = line[91:99]\n",
    "                    options_code = 'option code?'\n",
    "                    options_exp_date = 'option expiration date?'\n",
    "                    data_1 += [[futures_code,contract_month,contract_type,futures_expiration_date,\n",
    "                          options_code,options_exp_date]]\n",
    "            #81-type futures\n",
    "            elif(line[0:2]=='81'):\n",
    "                if(line[15:17]=='CL'):\n",
    "                    futures_code = line[15:17]\n",
    "                    contract_month = line[29:35]\n",
    "                    contract_type = line[25:28]if line[25:28] not in ['OOP','OOC','OOF'] else ('Put' if line[28:29]=='P'else 'Call')\n",
    "                    settlement_strike = line[47:54]\n",
    "                    settlement_price = line[108:122]\n",
    "                    data_2 += [[futures_code,contract_month,contract_type,settlement_strike,settlement_price]]\n",
    "           # write_file.write(line)"
   ]
  },
  {
   "cell_type": "code",
   "execution_count": 2,
   "metadata": {},
   "outputs": [
    {
     "name": "stdout",
     "output_type": "stream",
     "text": [
      "Futures    Contract   Contract   Futures    Options    Options    \n",
      "Code       Month      Type       Exp Date   Code       Exp Date   \n",
      "-------    --------   --------   --------   -------    --------   \n"
     ]
    }
   ],
   "source": [
    "### Table 1 output (B-records) ###\n",
    "\n",
    "column_width = 11\n",
    "column_label_1 = ['Futures', 'Contract', 'Contract', 'Futures', 'Options', 'Options']\n",
    "column_label_2 = ['Code', 'Month', 'Type', 'Exp Date', 'Code', 'Exp Date']\n",
    "column_label_3 = ['-------', '--------', '--------', '--------', '-------', '--------']\n",
    "\n",
    "# print header\n",
    "for column_label in column_label_1:\n",
    "    print(column_label.ljust(column_width), end='')\n",
    "print()\n",
    "\n",
    "for column_label in column_label_2:\n",
    "    print(column_label.ljust(column_width), end='')\n",
    "print()\n",
    "\n",
    "for column_label in column_label_3:\n",
    "    print(column_label.ljust(column_width), end='')\n",
    "print()\n",
    "\n",
    "\n",
    "# print data\n",
    "for row in data_1:\n",
    "    for value in row:\n",
    "        print(str(value).ljust(column_width), end='')\n",
    "    print()"
   ]
  },
  {
   "cell_type": "code",
   "execution_count": 3,
   "metadata": {},
   "outputs": [
    {
     "name": "stdout",
     "output_type": "stream",
     "text": [
      "Futures    Contract   Contract   Strike     Settlement \n",
      "Code       Month      Type       Price      Price      \n",
      "-------    --------   --------   ------     ---------- \n"
     ]
    }
   ],
   "source": [
    "### Table 2 output (81-records) ###\n",
    "column_width = 11\n",
    "column_label_1 = ['Futures', 'Contract', 'Contract', 'Strike', 'Settlement']\n",
    "column_label_2 = ['Code', 'Month', 'Type', 'Price', 'Price']\n",
    "column_label_3 = ['-------', '--------', '--------', '------', '----------']\n",
    "\n",
    "# print header\n",
    "for column_label in column_label_1:\n",
    "    print(column_label.ljust(column_width), end='')\n",
    "print()\n",
    "\n",
    "for column_label in column_label_2:\n",
    "    print(column_label.ljust(column_width), end='')\n",
    "print()\n",
    "\n",
    "for column_label in column_label_3:\n",
    "    print(column_label.ljust(column_width), end='')\n",
    "print()\n",
    "\n",
    "\n",
    "# print data\n",
    "for row in data_2:\n",
    "    for value in row:\n",
    "        print(str(value).ljust(column_width), end='')\n",
    "    print()"
   ]
  },
  {
   "cell_type": "code",
   "execution_count": null,
   "metadata": {},
   "outputs": [],
   "source": []
  },
  {
   "cell_type": "code",
   "execution_count": null,
   "metadata": {},
   "outputs": [],
   "source": []
  }
 ],
 "metadata": {
  "kernelspec": {
   "display_name": "Python 3",
   "language": "python",
   "name": "python3"
  }
 },
 "nbformat": 4,
 "nbformat_minor": 2
}
