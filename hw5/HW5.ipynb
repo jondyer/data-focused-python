{
 "cells": [
  {
   "cell_type": "code",
   "execution_count": 67,
   "metadata": {},
   "outputs": [
    {
     "data": {
      "text/plain": [
       "['Amount:Category:Date:Description',\n",
       " '5.25:supply:20170222:box of staples',\n",
       " '79.81:meal:20170222:lunch with ABC Corp. clients Al, Bob, and Cy',\n",
       " '43.00:travel:20170222:cab back to office',\n",
       " '383.75:travel:20170223:flight to Boston, to visit ABC Corp.',\n",
       " '55.00:travel:20170223:cab to ABC Corp. in Cambridge, MA',\n",
       " '23.25:meal:20170223:dinner at Logan Airport',\n",
       " '318.47:supply:20170224:paper, toner, pens, paperclips, tape',\n",
       " '142.12:meal:20170226:host dinner with ABC clients, Al, Bob, Cy, Dave, Ellie',\n",
       " '303.94:util:20170227:Peoples Gas',\n",
       " '121.07:util:20170227:Verizon Wireless',\n",
       " '7.59:supply:20170227:Python book (used)',\n",
       " '79.99:supply:20170227:spare 20\" monitor',\n",
       " '49.86:supply:20170228:Stoch Cal for Finance II',\n",
       " '6.53:meal:20170302:Dunkin Donuts, drive to Big Inc. near DC',\n",
       " '127.23:meal:20170302:dinner, Tavern64',\n",
       " \"33.07:meal:20170303:dinner, Uncle Julio's\",\n",
       " '86.00:travel:20170304:mileage, drive to/from Big Inc., Reston, VA',\n",
       " '22.00:travel:20170304:tolls',\n",
       " '378.81:travel:20170304:Hyatt Hotel, Reston VA, for Big Inc. meeting',\n",
       " '1247.49:supply:20170306:Dell 7000 laptop/workstation',\n",
       " '6.99:supply:20170306:HDMI cable',\n",
       " '212.06:util:20170308:Duquesne Light',\n",
       " '23.86:supply:20170309:Practical Guide to Quant Finance Interviews',\n",
       " '195.89:supply:20170309:black toner, HP 304A, 2-pack',\n",
       " '86.00:travel:20170317:mileage, drive to/from Big Inc., Reston, VA',\n",
       " \"32.27:meal:20170317:lunch at Clyde's with Fred and Gina, Big Inc.\",\n",
       " '22.00:travel:20170317:tolls',\n",
       " '119.56:util:20170319:Verizon Wireless',\n",
       " '284.23:util:20170323:Peoples Gas',\n",
       " '8.98:supply:20170325:Flair pens']"
      ]
     },
     "execution_count": 67,
     "metadata": {},
     "output_type": "execute_result"
    }
   ],
   "source": [
    "# Question 1\n",
    "records = []\n",
    "\n",
    "with open(\"expenses.txt\", \"r\") as file:\n",
    "    for line in file.readlines():\n",
    "        records.append(line.rstrip())\n",
    "records"
   ]
  },
  {
   "cell_type": "code",
   "execution_count": 85,
   "metadata": {},
   "outputs": [
    {
     "name": "stdout",
     "output_type": "stream",
     "text": [
      "79.81:meal:20170222:lunch with ABC Corp. clients Al, Bob, and Cy\n",
      "43.00:travel:20170222:cab back to office\n",
      "55.00:travel:20170223:cab to ABC Corp. in Cambridge, MA\n",
      "23.25:meal:20170223:dinner at Logan Airport\n",
      "79.99:supply:20170227:spare 20\" monitor\n",
      "49.86:supply:20170228:Stoch Cal for Finance II\n",
      "33.07:meal:20170303:dinner, Uncle Julio's\n",
      "86.00:travel:20170304:mileage, drive to/from Big Inc., Reston, VA\n",
      "22.00:travel:20170304:tolls\n",
      "23.86:supply:20170309:Practical Guide to Quant Finance Interviews\n",
      "86.00:travel:20170317:mileage, drive to/from Big Inc., Reston, VA\n",
      "32.27:meal:20170317:lunch at Clyde's with Fred and Gina, Big Inc.\n",
      "22.00:travel:20170317:tolls\n"
     ]
    }
   ],
   "source": [
    "import re\n",
    "\n",
    "# 1a\n",
    "# pat = r'D'\n",
    "\n",
    "# 1b\n",
    "# pat = r'\\''\n",
    "\n",
    "# 1c\n",
    "# pat = r'\\\"'\n",
    "\n",
    "# 1d\n",
    "# pat = r'^7'\n",
    "\n",
    "# 1e\n",
    "# pat = r'[rt]$'\n",
    "\n",
    "# 1f\n",
    "# pat = r'\\.'\n",
    "\n",
    "# 1g\n",
    "# pat = r'r.*g'\n",
    "\n",
    "# 1h\n",
    "# pat = r'[A-Z][A-Z]'\n",
    "\n",
    "# 1i\n",
    "# pat = r','\n",
    "\n",
    "# 1j\n",
    "# pat = r',.*,.*,.*'\n",
    "\n",
    "# 1k\n",
    "# pat = r'^[^vwxyz]*$'\n",
    "\n",
    "# 1l\n",
    "# pat = r'(?<![0-9])[1-9][0-9]\\.[0-9][0-9]'\n",
    "\n",
    "#1m\n",
    "#pat = r'(^[^,]*[,][^,]*[,][^,]*[,][^,]*$)'\n",
    "\n",
    "#1n\n",
    "#pat = r'\\('\n",
    "\n",
    "#1o [Review]\n",
    "#pat = r'[1-9]+[0-9]*[0-9][0-9]\\.[0-9][0-9]'\n",
    "\n",
    "#1p \n",
    "#pat = r'[0-9]:....:'\n",
    "\n",
    "#1q\n",
    "#pat = r':20[01][0-9]03'\n",
    "\n",
    "#1r\n",
    "#pat = r'[a][^b]*[b][^c]*[c]'\n",
    "\n",
    "#1s [Review]\n",
    "#pat = r'(.)\\1.*\\1\\1.*\\1\\1'\n",
    "\n",
    "#1t\n",
    "#pat = r'([a].*[0-9])|([0-9].*[a])'\n",
    "\n",
    "#1u\n",
    "#pat = r'^[^A-Z]*$'\n",
    "\n",
    "#records.append('doily')\n",
    "#1v \n",
    "#pat = r'([d][i])|([d][a-z][i])'\n",
    "\n",
    "for line in records:\n",
    "    if re.search(pat, line) != None:\n",
    "        print(line)\n"
   ]
  },
  {
   "cell_type": "code",
   "execution_count": null,
   "metadata": {},
   "outputs": [],
   "source": []
  }
 ],
 "metadata": {
  "kernelspec": {
   "display_name": "Python 3",
   "language": "python",
   "name": "python3"
  },
  "language_info": {
   "codemirror_mode": {
    "name": "ipython",
    "version": 3
   },
   "file_extension": ".py",
   "mimetype": "text/x-python",
   "name": "python",
   "nbconvert_exporter": "python",
   "pygments_lexer": "ipython3",
   "version": "3.7.1"
  }
 },
 "nbformat": 4,
 "nbformat_minor": 2
}
